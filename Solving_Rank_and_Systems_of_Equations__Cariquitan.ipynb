{
  "nbformat": 4,
  "nbformat_minor": 0,
  "metadata": {
    "colab": {
      "provenance": []
    },
    "kernelspec": {
      "name": "python3",
      "display_name": "Python 3"
    },
    "language_info": {
      "name": "python"
    }
  },
  "cells": [
    {
      "cell_type": "code",
      "source": [
        "import numpy as np"
      ],
      "metadata": {
        "id": "xTuP3Io8a82b"
      },
      "execution_count": 1,
      "outputs": []
    },
    {
      "cell_type": "code",
      "execution_count": 8,
      "metadata": {
        "colab": {
          "base_uri": "https://localhost:8080/"
        },
        "id": "j4qdvnQeazOH",
        "outputId": "5de3f688-7208-46de-9e97-e8cd9fad1447"
      },
      "outputs": [
        {
          "output_type": "stream",
          "name": "stdout",
          "text": [
            "The rank of the matrix is: 2\n"
          ]
        }
      ],
      "source": [
        "A = np.array([\n",
        "    [1, 2, 0, 4],\n",
        "    [3, 6, 0, 8],\n",
        "    [5, 10, 0, 12],\n",
        "    [7, 14, 0, 16]\n",
        "])\n",
        "\n",
        "rank = np.linalg.matrix_rank(A)\n",
        "print(f\"The rank of the matrix is: {rank}\")\n"
      ]
    },
    {
      "cell_type": "code",
      "source": [
        "A2 = np.array([\n",
        "    [1, 1, 1],\n",
        "    [2, 4, 3],\n",
        "    [0, 0, 1]\n",
        "])\n",
        "\n",
        "# Check if the matrix is invertible\n",
        "if np.linalg.matrix_rank(A2) == A2.shape[0]:\n",
        "    A2_inv = np.linalg.inv(A2)\n",
        "    print(\"Inverse of A2:\\n\", A2_inv)\n",
        "else:\n",
        "    print(\"Matrix does not have an inverse.\")"
      ],
      "metadata": {
        "colab": {
          "base_uri": "https://localhost:8080/"
        },
        "id": "MvxFEJcTbgrA",
        "outputId": "e01d67ad-d45b-4e0a-c081-e0f07b56de5b"
      },
      "execution_count": 10,
      "outputs": [
        {
          "output_type": "stream",
          "name": "stdout",
          "text": [
            "Inverse of A2:\n",
            " [[ 2.  -0.5 -0.5]\n",
            " [-1.   0.5 -0.5]\n",
            " [ 0.   0.   1. ]]\n"
          ]
        }
      ]
    },
    {
      "cell_type": "code",
      "source": [
        "A4 = np.array([\n",
        "    [1, 1, 1, 1],\n",
        "    [2, 1, 0, 3],\n",
        "    [4, 3, 2, 1],\n",
        "    [3, 0, 5, 2]\n",
        "])\n",
        "\n",
        "# Check if the matrix is invertible\n",
        "if np.linalg.matrix_rank(A4) == A4.shape[0]:\n",
        "    A4_inv = np.linalg.inv(A4)\n",
        "    print(\"Inverse of A4:\\n\", A4_inv)\n",
        "else:\n",
        "    print(\"Matrix does not have an inverse.\")"
      ],
      "metadata": {
        "colab": {
          "base_uri": "https://localhost:8080/"
        },
        "id": "6vh7pLJncLNb",
        "outputId": "4580b9a5-2323-46c4-9280-c1e2342f993f"
      },
      "execution_count": 12,
      "outputs": [
        {
          "output_type": "stream",
          "name": "stdout",
          "text": [
            "Inverse of A4:\n",
            " [[-1.375  0.25   0.375  0.125]\n",
            " [ 1.25  -0.25  -0.    -0.25 ]\n",
            " [ 0.625 -0.25  -0.125  0.125]\n",
            " [ 0.5    0.25  -0.25   0.   ]]\n"
          ]
        }
      ]
    }
  ]
}